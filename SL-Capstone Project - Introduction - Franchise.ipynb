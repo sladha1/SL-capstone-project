{
    "cells": [
        {
            "cell_type": "markdown",
            "metadata": {
                "collapsed": true
            },
            "source": "# SL - Capstone Project - Vegan Restaurant Franchise\n\n# Introduction\n\n## by Sohail Ladha\n\n## June 2020"
        },
        {
            "cell_type": "markdown",
            "metadata": {},
            "source": "**_Introduction / Business Problem_**\n\nSomerville is a unique neighborhood in New York.  New York Times recently published an article highlighting the benefits and status of the neighborhood, which has been under the neighborhood for a long time.\nhttps://www.nytimes.com/2019/08/14/realestate/somerville-nj-a-walkable-suburban-alternative.html\n\nMr. Xi operates a famous vegan restaurant in Somerville, Fresh Tiki.  This restaurant has received excellent reviews from food critics and the company is planning to open in numerous locations globally.\n\nRecently, Mr. Xi was approached by Ms.Varga, a prominent Toronto businesswoman, to open five locations of Fresh Tiki in Toronto.  Mr. Xi is amenable to opening such locations on a franchise basis, but wants to provide his consent regarding locations.  \n\nMr. Xi is a firm believer in Somerville and he believes that the eclectic nature of the neighborhood, with its high walkability and urban / suburban feel, have been strong contributors to the success of Fresh Tiki.  Therefore, one of his requirements is that Fresh Tiki be opened in locations / neighborhoods similar to Somerville in Toronto.  \n\nMr. Xi wants to shortlist up to 10 locations to serve as the initial neighborhoods for opening Fresh Tiki in Toronto.  The requirements for this shortlist are that the selected locations \u2018must be similar to Summerville\u2019.  He has engaged our data science firm to assist with this real world problem.\n"
        },
        {
            "cell_type": "markdown",
            "metadata": {},
            "source": "**_Target Audience_**\n1. The initial target audience is Mr. Xi, who is seeking to find similar neighborhoods to Somerville (New York neighborhood) in Toronto in order to open is chain of vegan restaurants.\n2. The same solution can be useful to any business or household seeking to shift from Somerville (New York) to Toronto, while maintaining a similar feel.\n\n\nOther variations of the analysis can be used for companies deciding to move from one neighborhood in New York to Toronto or vice versa (or expand from one city to another)."
        },
        {
            "cell_type": "markdown",
            "metadata": {},
            "source": "**_Data_**\n\n\nIn order to solve this problem, I will be using three possible sources of data:\n1. Data regarding Toronto neighborhoods.  This data is available from the following Wikipedia page:\nhttps://en.wikipedia.org/wiki/List_of_postal_codes_of_Canada:_M\n.  This includes data regarding postal codes, boroughs, neighborhoods.\n\n\n2. Data regarding New York neighborhoods.  The data is available from the following JSON file:\nhttps://cocl.us/new_york_dataset \n.  This includes data regarding boroughs, neighborhoods.\n\n\n3. Data in the Foursquare API.  We will make calls to the Foursquare API to explore individual neighborhoods.\n \n_In order to work with the data, we will have to clean the data in New York and Toronto to remove unassigned neighborhoods.  We will also need to extract locational data (longitude and latitude data) so that we can use it to extract interesting locations in or around the neighborhood from Foursquare API.  This data should be sufficient for us to populate the locations with key characteristics of surroundings of the neighborhood._\n\n_Once the data is well organized, we can use an appropriate clustering approach to identify clusters of similar neighborhoods.  We will use the K-means approach.  Based on this clustering, we will assess which cluster Somerville (New York) falls under and what other neighborhoods in Toronto fall under the same cluster.  This should help create a useful short-list, which will be the solution to our problem._\n"
        }
    ],
    "metadata": {
        "kernelspec": {
            "display_name": "Python 3.6",
            "language": "python",
            "name": "python3"
        },
        "language_info": {
            "codemirror_mode": {
                "name": "ipython",
                "version": 3
            },
            "file_extension": ".py",
            "mimetype": "text/x-python",
            "name": "python",
            "nbconvert_exporter": "python",
            "pygments_lexer": "ipython3",
            "version": "3.6.9"
        }
    },
    "nbformat": 4,
    "nbformat_minor": 1
}